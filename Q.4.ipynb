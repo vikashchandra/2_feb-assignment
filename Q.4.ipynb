{
 "cells": [
  {
   "cell_type": "code",
   "execution_count": 10,
   "id": "a477f879-c83d-467e-a6a2-57037c8d2ee1",
   "metadata": {},
   "outputs": [
    {
     "name": "stdout",
     "output_type": "stream",
     "text": [
      "For loop use...\n",
      "\n",
      "Here the element of created list\n",
      "\n",
      "[4, 5, 8, 10, 12, 15, 16, 20, 24, 25, 28, 30, 32, 35, 36, 40, 44, 45, 48, 50, 52, 55, 56, 60, 64, 65, 68, 70, 72, 75, 76, 80, 84, 85, 88, 90, 92, 95, 96, 100]\n"
     ]
    }
   ],
   "source": [
    "\"\"\"Q.4. Create a list of numbers from 1 to 100 . Use for loop and\n",
    "while loop to calculate the cube of each number and if the cube\n",
    "of that number is divisible by 4 or 5 then append that number in a\n",
    "list and print that list.\"\"\"\n",
    "print(\"For loop use...\\n\")\n",
    "l=[]\n",
    "for i in range(1,101):\n",
    "    if i%4==0 or i%5==0:\n",
    "        l.append(i)\n",
    "print(\"Here the element of created list\\n\")\n",
    "print(l)\n",
    "print(\"\\n\\n While loop use....\\n\")\n",
    "l1=[]\n",
    "a=1\n",
    "while a<=100:\n",
    "    if a%4==0 or a%5==0:\n",
    "        l1."
   ]
  },
  {
   "cell_type": "code",
   "execution_count": null,
   "id": "2426e338-fed6-4995-8deb-477892117115",
   "metadata": {},
   "outputs": [],
   "source": []
  }
 ],
 "metadata": {
  "kernelspec": {
   "display_name": "Python 3 (ipykernel)",
   "language": "python",
   "name": "python3"
  },
  "language_info": {
   "codemirror_mode": {
    "name": "ipython",
    "version": 3
   },
   "file_extension": ".py",
   "mimetype": "text/x-python",
   "name": "python",
   "nbconvert_exporter": "python",
   "pygments_lexer": "ipython3",
   "version": "3.10.8"
  }
 },
 "nbformat": 4,
 "nbformat_minor": 5
}
