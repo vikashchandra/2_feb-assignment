{
 "cells": [
  {
   "cell_type": "code",
   "execution_count": null,
   "id": "a477f879-c83d-467e-a6a2-57037c8d2ee1",
   "metadata": {},
   "outputs": [
    {
     "name": "stdout",
     "output_type": "stream",
     "text": [
      "For loop use...\n",
      "\n",
      "Here the element of created list\n",
      "\n",
      "[64, 125, 512, 1000, 1728, 3375, 4096, 8000, 13824, 15625, 21952, 27000, 32768, 42875, 46656, 64000, 85184, 91125, 110592, 125000, 140608, 166375, 175616, 216000, 262144, 274625, 314432, 343000, 373248, 421875, 438976, 512000, 592704, 614125, 681472, 729000, 778688, 857375, 884736, 1000000]\n",
      "\n",
      "\n",
      " While loop use....\n",
      "\n",
      "Here the element of created list\n",
      "\n",
      "[64, 125, 512, 1000, 1728, 3375, 4096, 8000, 13824, 15625, 21952, 27000, 32768, 42875, 46656, 64000, 85184, 91125, 110592, 125000, 140608, 166375, 175616, 216000, 262144, 274625, 314432, 343000, 373248, 421875, 438976, 512000, 592704, 614125, 681472, 729000, 778688, 857375, 884736, 1000000]\n"
     ]
    }
   ],
   "source": [
    "\"\"\"Q.4. Create a list of numbers from 1 to 100 . Use for loop and while loop to calculate the cube of each number and if the cube of that number is divisible by 4 or 5 then append that number in a list and print that list.\"\"\"\n",
    "\n",
    "print(\"For loop use...\\n\")\n",
    "l=[]\n",
    "for i in range(1,101):\n",
    "    if i%4==0 or i%5==0:\n",
    "        l.append(i*i*i)\n",
    "print(\"Here the element of created list\\n\")\n",
    "print(l)\n",
    "print(\"\\n\\n While loop use....\\n\")\n",
    "l1=[]\n",
    "a=1\n",
    "while a<=100:\n",
    "    if a%4==0 or a%5==0:\n",
    "        l1.append(a*a*a)\n",
    "    a=a+1\n",
    "print(\"Here the element of created list\\n\")\n",
    "print(l1)\n"
   ]
  },
  {
   "cell_type": "code",
   "execution_count": null,
   "id": "2426e338-fed6-4995-8deb-477892117115",
   "metadata": {},
   "outputs": [],
   "source": []
  }
 ],
 "metadata": {
  "kernelspec": {
   "display_name": "Python 3 (ipykernel)",
   "language": "python",
   "name": "python3"
  },
  "language_info": {
   "codemirror_mode": {
    "name": "ipython",
    "version": 3
   },
   "file_extension": ".py",
   "mimetype": "text/x-python",
   "name": "python",
   "nbconvert_exporter": "python",
   "pygments_lexer": "ipython3",
   "version": "3.10.8"
  }
 },
 "nbformat": 4,
 "nbformat_minor": 5
}
