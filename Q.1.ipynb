{
 "cells": [
  {
   "cell_type": "code",
   "execution_count": 5,
   "id": "8c2844e2-7247-4ad7-9141-4435c93fcd0e",
   "metadata": {},
   "outputs": [
    {
     "name": "stdout",
     "output_type": "stream",
     "text": [
      "Here we print the element of list using for loop.\n",
      "\n",
      "5  7  6  8  3  5  23  34  6  \n",
      " Here we print number 1 to 10 using while loop.\n",
      "\n",
      "1  2  3  4  5  6  7  8  9  10  "
     ]
    }
   ],
   "source": [
    "\"\"\"Q.1.Explain with an example each when to use a for loop and a while loop.\"\"\"\n",
    "\"\"\"for loop is used in python for perform to iteration in list, set, tupple, string, and dictionary .\n",
    "\n",
    "While loop is used in python for multiple time execute a particular block on the bases of condition.\"\"\"\n",
    "#program for example of ‘for loop’ and ‘while loop’\n",
    "print(\"Here we print the element of list using for loop.\\n\")\n",
    "l=[5,7,6,8,3,5,23,34,6]\n",
    "for i in l:\n",
    "\tprint(i,end=\"  \")\n",
    " #This is while loop example\n",
    "print(\"\\n Here we print number 1 to 10 using while loop.\\n\")\n",
    "a=1\n",
    "while a<=10:\n",
    "\tprint(a,end=\"  \")\n",
    "\ta=a+1\n"
   ]
  },
  {
   "cell_type": "code",
   "execution_count": null,
   "id": "a57b35f0-827c-4d19-bd1d-ef964ea940d4",
   "metadata": {},
   "outputs": [],
   "source": []
  }
 ],
 "metadata": {
  "kernelspec": {
   "display_name": "Python 3 (ipykernel)",
   "language": "python",
   "name": "python3"
  },
  "language_info": {
   "codemirror_mode": {
    "name": "ipython",
    "version": 3
   },
   "file_extension": ".py",
   "mimetype": "text/x-python",
   "name": "python",
   "nbconvert_exporter": "python",
   "pygments_lexer": "ipython3",
   "version": "3.10.8"
  }
 },
 "nbformat": 4,
 "nbformat_minor": 5
}
