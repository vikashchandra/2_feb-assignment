{
 "cells": [
  {
   "cell_type": "code",
   "execution_count": null,
   "id": "9dc4441e-b9b7-44fd-aeda-525b51b3f993",
   "metadata": {},
   "outputs": [],
   "source": [
    "\"\"\"Q.3. Create a python program  to compute the electricity bill \n",
    "for a household.\n",
    "The per- unit charges in rupees are as follows:For the first 100\n",
    "units ,the user will be charged Rs.4.5 per unit, for the next 100 \n",
    "units,the user will be charged Rs.6 per unit,and for the next 100 \n",
    "units,the user will be charged Rs. 10 per unit,after 300 units \n",
    "and above the user will be charged Rs. 20 per unit.\n",
    "You are required to take the units of electricity consumed in a \n",
    "month from the user as input.\n",
    "Your program must pass this test case : when the unit of \n",
    "electricity consumed by the user in a month is 310,the total \n",
    "electricity bill should be 2250.\"\"\"\n",
    "p1=0\n",
    "p2=0\n",
    "p3=0\n",
    "p4=0\n",
    "a=0\n",
    "unit=float(input(\"Enter the total unit of consumed in month:\"))\n",
    "if unit>300:\n",
    "    a=unit-300\n",
    "    p4=a*20\n",
    "    unit=300\n",
    "if unit>200:\n",
    "    a=unit-200\n",
    "    p3=a*10\n",
    "    unit=200\n",
    "if unit>100:\n",
    "    a=unit-100\n",
    "    p2=a*6\n",
    "    unit=100\n",
    "if unit<=100:\n",
    "    p1=unit*4.5\n",
    "p=p1+p2+p3+p4\n",
    "print(\"total bill is\",p)"
   ]
  },
  {
   "cell_type": "code",
   "execution_count": null,
   "id": "a2b051fe-a64d-42dc-a8f6-c89a21bac449",
   "metadata": {},
   "outputs": [],
   "source": []
  }
 ],
 "metadata": {
  "kernelspec": {
   "display_name": "Python 3 (ipykernel)",
   "language": "python",
   "name": "python3"
  },
  "language_info": {
   "codemirror_mode": {
    "name": "ipython",
    "version": 3
   },
   "file_extension": ".py",
   "mimetype": "text/x-python",
   "name": "python",
   "nbconvert_exporter": "python",
   "pygments_lexer": "ipython3",
   "version": "3.10.8"
  }
 },
 "nbformat": 4,
 "nbformat_minor": 5
}
