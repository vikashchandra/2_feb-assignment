{
 "cells": [
  {
   "cell_type": "code",
   "execution_count": null,
   "id": "860f41cf-7349-41be-8013-6d05b0610244",
   "metadata": {},
   "outputs": [],
   "source": []
  },
  {
   "cell_type": "code",
   "execution_count": 9,
   "id": "c0057598-8b7e-47ec-a30d-2c9243f74eca",
   "metadata": {},
   "outputs": [
    {
     "name": "stdout",
     "output_type": "stream",
     "text": [
      "for loop use……\n",
      "\n",
      "1  2  3  4  5  6  7  8  9  10  \n",
      " sum= 55\n",
      "product= 3628800\n",
      "\n",
      "\n",
      " while loop use...\n"
     ]
    }
   ],
   "source": [
    "\"\"\"Q.2. Write a python program to print the sum and product of the first 10 natural numbers using for and while loop.\"\"\"\n",
    "\n",
    "print(\"for loop use……\\n\")\n",
    "s=0\n",
    "p=1\n",
    "for i in range(1,11):\n",
    "    print(i,end=\"  \")\n",
    "    s=s+i\n",
    "    p=p*i\n",
    "print(\"\\n sum=\",s)\n",
    "print(\"product=\",p)\n",
    "print(\"\\n\\n while loop use...\")\n",
    "a=1\n",
    "s=0\n",
    "p=1\n",
    "while a<=10:\n",
    "    print(a,end=\"  \")\n",
    "    s=s+a\n",
    "    p=p*a\n",
    "print(\"\\n sum=\",s)\n",
    "print(\"product=\",p)"
   ]
  },
  {
   "cell_type": "code",
   "execution_count": null,
   "id": "0634a2ad-63b8-4bdd-ac08-9d2276066b95",
   "metadata": {},
   "outputs": [],
   "source": []
  }
 ],
 "metadata": {
  "kernelspec": {
   "display_name": "Python 3 (ipykernel)",
   "language": "python",
   "name": "python3"
  },
  "language_info": {
   "codemirror_mode": {
    "name": "ipython",
    "version": 3
   },
   "file_extension": ".py",
   "mimetype": "text/x-python",
   "name": "python",
   "nbconvert_exporter": "python",
   "pygments_lexer": "ipython3",
   "version": "3.10.8"
  }
 },
 "nbformat": 4,
 "nbformat_minor": 5
}
