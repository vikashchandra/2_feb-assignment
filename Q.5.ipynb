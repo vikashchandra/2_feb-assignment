{
 "cells": [
  {
   "cell_type": "code",
   "execution_count": 2,
   "id": "cb1b9395-c47f-43ac-bdee-e308fe896b4a",
   "metadata": {},
   "outputs": [
    {
     "name": "stdout",
     "output_type": "stream",
     "text": [
      "I want to become a data scientist \n",
      "\n",
      "Total vowels= 12\n"
     ]
    }
   ],
   "source": [
    "string=\"I want to become a data scientist\"\n",
    "print(string,\"\\n\")\n",
    "c=0\n",
    "for i in string:\n",
    "    if i=='A' or i=='a'or i=='E' or i=='e' or i=='I' or i=='i' or i=='O' or i=='o' or i=='U' or i=='u':\n",
    "        c=c+1\n",
    "print(\"Total vowels=\",c)"
   ]
  },
  {
   "cell_type": "code",
   "execution_count": null,
   "id": "ecc62f7c-d542-4384-bf1d-fc381d04598d",
   "metadata": {},
   "outputs": [],
   "source": []
  }
 ],
 "metadata": {
  "kernelspec": {
   "display_name": "Python 3 (ipykernel)",
   "language": "python",
   "name": "python3"
  },
  "language_info": {
   "codemirror_mode": {
    "name": "ipython",
    "version": 3
   },
   "file_extension": ".py",
   "mimetype": "text/x-python",
   "name": "python",
   "nbconvert_exporter": "python",
   "pygments_lexer": "ipython3",
   "version": "3.10.8"
  }
 },
 "nbformat": 4,
 "nbformat_minor": 5
}
